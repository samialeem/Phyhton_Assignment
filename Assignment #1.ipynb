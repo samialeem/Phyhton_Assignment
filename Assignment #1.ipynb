{
 "cells": [
  {
   "cell_type": "markdown",
   "id": "65d12d5d",
   "metadata": {},
   "source": [
    "# 1) Write a phython programm to print the string."
   ]
  },
  {
   "cell_type": "code",
   "execution_count": 4,
   "id": "a7821b05",
   "metadata": {},
   "outputs": [
    {
     "name": "stdout",
     "output_type": "stream",
     "text": [
      "Twinkle,twinkle, little star,\n",
      "\t How I wonder what you are! \n",
      "\t Up above the world so high, \n",
      " like a diamond in the sky. \n",
      " Twinkle, twinkle,little star, \n",
      "\tHow I wonder what you are \n"
     ]
    }
   ],
   "source": [
    "print (\"Twinkle,twinkle, little star,\\n\\t How I wonder what you are! \\n\\t Up above the world so high, \\n like a diamond in the sky. \\n Twinkle, twinkle,little star, \\n\\tHow I wonder what you are \")"
   ]
  },
  {
   "cell_type": "markdown",
   "id": "219a6358",
   "metadata": {},
   "source": [
    "# 2) Write a phython programm to get the phython version you are using."
   ]
  },
  {
   "cell_type": "code",
   "execution_count": 19,
   "id": "8f122a30",
   "metadata": {},
   "outputs": [
    {
     "name": "stdout",
     "output_type": "stream",
     "text": [
      "My phython version is 3.9.7 (default, Sep 16 2021, 16:59:28) [MSC v.1916 64 bit (AMD64)]\n"
     ]
    }
   ],
   "source": [
    "import sys\n",
    "print (\"My phython version is\",  sys.version)"
   ]
  },
  {
   "cell_type": "markdown",
   "id": "1cdc300d",
   "metadata": {},
   "source": [
    "# 3) Write a phython programm to display the current date and time. "
   ]
  },
  {
   "cell_type": "code",
   "execution_count": 10,
   "id": "c4554501",
   "metadata": {},
   "outputs": [
    {
     "name": "stdout",
     "output_type": "stream",
     "text": [
      "Current date and time : \n",
      "2022-01-01 19:48:54\n"
     ]
    }
   ],
   "source": [
    "import datetime\n",
    "now = datetime.datetime.now()\n",
    "print (\"Current date and time : \")\n",
    "print (now.strftime(\"%Y-%m-%d %H:%M:%S\"))"
   ]
  },
  {
   "cell_type": "markdown",
   "id": "d742b331",
   "metadata": {},
   "source": [
    "# 4) Wte a phython programm which accepts the user's First name and last name and print them in reverse order with a space between them."
   ]
  },
  {
   "cell_type": "code",
   "execution_count": 33,
   "id": "c0aaa43b",
   "metadata": {},
   "outputs": [
    {
     "name": "stdout",
     "output_type": "stream",
     "text": [
      "Enter your first name \n",
      "Umer \n",
      "Enter your last name \n",
      "Aleem\n",
      "Your full name is : Aleem Umer \n"
     ]
    }
   ],
   "source": [
    "print (\"Enter your first name \")\n",
    "fn =input()\n",
    "print (\"Enter your last name \")\n",
    "ln = input()\n",
    "print (\"Your full name is :\" , ln +\" \"+ fn)"
   ]
  },
  {
   "cell_type": "markdown",
   "id": "cb36a160",
   "metadata": {},
   "source": [
    "# 5) Write a phython programm which takes two inputs from users and print them addition."
   ]
  },
  {
   "cell_type": "code",
   "execution_count": 38,
   "id": "5e467b57",
   "metadata": {},
   "outputs": [
    {
     "name": "stdout",
     "output_type": "stream",
     "text": [
      "Enter you first number\n",
      "77\n",
      "Enter your second number\n",
      "89\n",
      "sum of these numbers is : 166\n"
     ]
    }
   ],
   "source": [
    "print (\"Enter you first number\")\n",
    "n1 = input()\n",
    "print (\"Enter your second number\")\n",
    "n2 = input()\n",
    "print (\"sum of these numbers is :\", int(n1)+int(n2))"
   ]
  },
  {
   "cell_type": "markdown",
   "id": "b6b9c3ef",
   "metadata": {},
   "source": [
    "# 6) Write a phython programm which accepts the radius of a circle from the user and compute the area."
   ]
  },
  {
   "cell_type": "code",
   "execution_count": 40,
   "id": "eaa06675",
   "metadata": {},
   "outputs": [
    {
     "name": "stdout",
     "output_type": "stream",
     "text": [
      "Input the radius of the circle : 8.9\n",
      "The area of the circle with radius 8.9 is: 248.84555409084754\n"
     ]
    }
   ],
   "source": [
    "from math import pi\n",
    "r = float(input (\"Input the radius of the circle : \"))\n",
    "print (\"The area of the circle with radius \" + str(r) + \" is: \" + str(pi * r**2))\n"
   ]
  }
 ],
 "metadata": {
  "kernelspec": {
   "display_name": "Python 3 (ipykernel)",
   "language": "python",
   "name": "python3"
  },
  "language_info": {
   "codemirror_mode": {
    "name": "ipython",
    "version": 3
   },
   "file_extension": ".py",
   "mimetype": "text/x-python",
   "name": "python",
   "nbconvert_exporter": "python",
   "pygments_lexer": "ipython3",
   "version": "3.9.7"
  }
 },
 "nbformat": 4,
 "nbformat_minor": 5
}
